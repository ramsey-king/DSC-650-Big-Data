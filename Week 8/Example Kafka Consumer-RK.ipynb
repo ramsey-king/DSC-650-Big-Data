{
 "cells": [
  {
   "cell_type": "code",
   "execution_count": 1,
   "metadata": {
    "scrolled": false
   },
   "outputs": [],
   "source": [
    "import json\n",
    "\n",
    "from kafka import KafkaConsumer"
   ]
  },
  {
   "cell_type": "markdown",
   "metadata": {},
   "source": [
    "### Configuration Parameters \n",
    "\n",
    "> **TODO:** Change the configuration prameters to the appropriate values for your setup."
   ]
  },
  {
   "cell_type": "code",
   "execution_count": 2,
   "metadata": {},
   "outputs": [
    {
     "data": {
      "text/plain": [
       "{'bootstrap_servers': ['kafka.kafka.svc.cluster.local:9092'],\n",
       " 'first_name': 'Ramsey',\n",
       " 'last_name': 'King',\n",
       " 'client_id': 'KingRamsey',\n",
       " 'topic_prefix': 'KingRamsey'}"
      ]
     },
     "execution_count": 2,
     "metadata": {},
     "output_type": "execute_result"
    }
   ],
   "source": [
    "config = dict(\n",
    "    bootstrap_servers=['kafka.kafka.svc.cluster.local:9092'],\n",
    "    first_name='Ramsey',\n",
    "    last_name='King'\n",
    ")\n",
    "\n",
    "config['client_id'] = '{}{}'.format(\n",
    "    config['last_name'], \n",
    "    config['first_name']\n",
    ")\n",
    "config['topic_prefix'] = '{}{}'.format(\n",
    "    config['last_name'], \n",
    "    config['first_name']\n",
    ")\n",
    "\n",
    "config"
   ]
  },
  {
   "cell_type": "markdown",
   "metadata": {},
   "source": [
    "Create a consumer without subscribing to any particular topic"
   ]
  },
  {
   "cell_type": "code",
   "execution_count": 3,
   "metadata": {},
   "outputs": [],
   "source": [
    "general_consumer = KafkaConsumer(\n",
    "    bootstrap_servers=config['bootstrap_servers']\n",
    ")"
   ]
  },
  {
   "cell_type": "markdown",
   "metadata": {},
   "source": [
    "List all topics you are currently allowed to view"
   ]
  },
  {
   "cell_type": "code",
   "execution_count": 4,
   "metadata": {},
   "outputs": [
    {
     "data": {
      "text/plain": [
       "{'AddagadaDeepthi-acceleration',\n",
       " 'AddagadaDeepthi-accelerations',\n",
       " 'AddagadaDeepthi-joined',\n",
       " 'AddagadaDeepthi-locations',\n",
       " 'AddagadaDeepthi-simple',\n",
       " 'AddagadaDeepthi-windowed',\n",
       " 'Adminition-accelerations',\n",
       " 'Adminition-locations',\n",
       " 'ChougulePushkar-accelerations',\n",
       " 'ChougulePushkar-joined',\n",
       " 'ChougulePushkar-locations',\n",
       " 'ChougulePushkar-simple',\n",
       " 'ChougulePushkar-windowed',\n",
       " 'DoeJohn-accelerations',\n",
       " 'DoeJohn-joined',\n",
       " 'DoeJohn-locations',\n",
       " 'DoeJohn-simple',\n",
       " 'DoeJohn-windowed',\n",
       " 'DoecJohn-windowed',\n",
       " 'EssohGeorges-accelerations',\n",
       " 'EssohGeorges-joined',\n",
       " 'EssohGeorges-locations',\n",
       " 'EssohGeorges-simple',\n",
       " 'EssohGeorges-windowed',\n",
       " 'GonzalezKimberly-accelerations',\n",
       " 'GonzalezKimberly-joined',\n",
       " 'GonzalezKimberly-locations',\n",
       " 'GonzalezKimberly-simple',\n",
       " 'GonzalezKimberly-windowed',\n",
       " 'HoffmannLaura-accelerations',\n",
       " 'HoffmannLaura-joined',\n",
       " 'HoffmannLaura-locations',\n",
       " 'HoffmannLaura-simple',\n",
       " 'HoffmannLaura-windowed',\n",
       " 'KaakatyRoni-accelerations',\n",
       " 'KaakatyRoni-joined',\n",
       " 'KaakatyRoni-locations',\n",
       " 'KaakatyRoni-simple',\n",
       " 'KaakatyRoni-windowed',\n",
       " 'KalaikkovanVasanthakumar-accelerations',\n",
       " 'KalaikkovanVasanthakumar-joined',\n",
       " 'KalaikkovanVasanthakumar-locations',\n",
       " 'KalaikkovanVasanthakumar-simple',\n",
       " 'KalaikkovanVasanthakumar-windowed',\n",
       " 'KanaparthiVenkata-accelerations',\n",
       " 'KanaparthiVenkata-joined',\n",
       " 'KanaparthiVenkata-locations',\n",
       " 'KanaparthiVenkata-simple',\n",
       " 'KanaparthiVenkata-windowed',\n",
       " 'KarlovicPatrik-accelerations',\n",
       " 'KarlovicPatrik-joined',\n",
       " 'KarlovicPatrik-locations',\n",
       " 'KarlovicPatrik-simple',\n",
       " 'KarlovicPatrik-windowed',\n",
       " 'KingRamsey-locations',\n",
       " 'KohnAaron-accelerations',\n",
       " 'KohnAaron-joined',\n",
       " 'KohnAaron-locations',\n",
       " 'KohnAaron-simple',\n",
       " 'KohnAaron-windowed',\n",
       " 'KohnAaron1-accelerations',\n",
       " 'KohnAaron1-joined',\n",
       " 'KohnAaron1-locations',\n",
       " 'KohnAaron1-simple',\n",
       " 'KohnAaron1-windowed',\n",
       " 'KolekarShilpa-accelerations',\n",
       " 'KolekarShilpa-joined',\n",
       " 'KolekarShilpa-locations',\n",
       " 'KolekarShilpa-simple',\n",
       " 'KolekarShilpa-windowed',\n",
       " 'KudaimiBilal-joined',\n",
       " 'KudaimiBilal-simple',\n",
       " 'KudaimiBilal-windowed',\n",
       " 'Last_Name_testFirst_Name_test-locations',\n",
       " 'MandalAbhijit-accelerations',\n",
       " 'MandalAbhijit-joined',\n",
       " 'MandalAbhijit-locations',\n",
       " 'MandalAbhijit-simple',\n",
       " 'MandalAbhijit-windowed',\n",
       " 'MohammedShabuddinRamizuddin-accelerations',\n",
       " 'MohammedShabuddinRamizuddin-joined',\n",
       " 'MohammedShabuddinRamizuddin-locations',\n",
       " 'MohammedShabuddinRamizuddin-simple',\n",
       " 'MohammedShabuddinRamizuddin-windowed',\n",
       " 'MuleyTushar-accelerations',\n",
       " 'MuleyTushar-accelrations',\n",
       " 'MuleyTushar-joined',\n",
       " 'MuleyTushar-locations',\n",
       " 'MuleyTushar-simple',\n",
       " 'MuleyTushar-windowed',\n",
       " 'MuthusamyGaneshkumar-accelerations',\n",
       " 'MuthusamyGaneshkumar-joined',\n",
       " 'MuthusamyGaneshkumar-locations',\n",
       " 'MuthusamyGaneshkumar-simple',\n",
       " 'MuthusamyGaneshkumar-windowed',\n",
       " 'NagarajVinay-accelerations',\n",
       " 'NagarajVinay-locations',\n",
       " 'NelsonRachel-accelerations',\n",
       " 'NelsonRachel-joined',\n",
       " 'NelsonRachel-locations',\n",
       " 'NelsonRachel-simple',\n",
       " 'NelsonRachel-windowed',\n",
       " 'PalomoCarlos-accelerations',\n",
       " 'PalomoCarlos-locations',\n",
       " 'PalomoCarlos-simple',\n",
       " 'PatrikKarlovic-joined',\n",
       " 'PatrikKarlovic-simple',\n",
       " 'PatrikKarlovic-windowed',\n",
       " 'PickCameron-accelerations',\n",
       " 'PickCameron-locations',\n",
       " 'ReynaArnold-accelerations',\n",
       " 'ReynaArnold-joined',\n",
       " 'ReynaArnold-locations',\n",
       " 'ReynaArnold-simple',\n",
       " 'ReynaArnold-windowed',\n",
       " 'RickordJake-accelerations',\n",
       " 'RickordJake-locations',\n",
       " 'RileyMarc-accelerations',\n",
       " 'RileyMarc-locations',\n",
       " 'SamantaArindam-accelerations',\n",
       " 'SamantaArindam-joined',\n",
       " 'SamantaArindam-locations',\n",
       " 'SamantaArindam-simple',\n",
       " 'SamantaArindam-windowed',\n",
       " 'SelvarajDavid-SelvarajDavid',\n",
       " 'SelvarajDavid-accelerations',\n",
       " 'SelvarajDavid-locations',\n",
       " 'SelvarajDavid-simple',\n",
       " 'SelvarajDavid-windowed',\n",
       " 'ShresthaSaurabh-accelerations',\n",
       " 'ShresthaSaurabh-joined',\n",
       " 'ShresthaSaurabh-locations',\n",
       " 'ShresthaSaurabh-simple',\n",
       " 'ShresthaSaurabh-windowed',\n",
       " 'SmithNick-accelerations',\n",
       " 'SmithNick-joined',\n",
       " 'SmithNick-locations',\n",
       " 'SmithNick-simple',\n",
       " 'SmithNick-windowed',\n",
       " 'StoneburnerKurt-accelerations',\n",
       " 'StoneburnerKurt-joined',\n",
       " 'StoneburnerKurt-locations',\n",
       " 'StoneburnerKurt-simple',\n",
       " 'StoneburnerKurt-windowed',\n",
       " 'SumbarajuAditya-accelerations',\n",
       " 'SumbarajuAditya-locations',\n",
       " 'TaylorDominick-accelerations',\n",
       " 'TaylorDominick-joined',\n",
       " 'TaylorDominick-locations',\n",
       " 'TaylorDominick-simple',\n",
       " 'TaylorDominick-windowed',\n",
       " 'ValderRohan-accelerations',\n",
       " 'ValderRohan-joined',\n",
       " 'ValderRohan-locations',\n",
       " 'ValderRohan-simple',\n",
       " 'ValderRohan-windowed',\n",
       " 'accelerations',\n",
       " 'karlovicpatrik-accelerations',\n",
       " 'karlovicpatrik-locations'}"
      ]
     },
     "execution_count": 4,
     "metadata": {},
     "output_type": "execute_result"
    }
   ],
   "source": [
    "general_consumer.topics()"
   ]
  },
  {
   "cell_type": "markdown",
   "metadata": {},
   "source": [
    "Close the consumer, waiting indefinitely for any needed cleanup."
   ]
  },
  {
   "cell_type": "code",
   "execution_count": 5,
   "metadata": {},
   "outputs": [],
   "source": [
    "general_consumer.close()"
   ]
  },
  {
   "cell_type": "code",
   "execution_count": 6,
   "metadata": {},
   "outputs": [],
   "source": [
    "def create_kafka_consumer(topics, config=config):\n",
    "    bootstrap_servers = config['bootstrap_servers']\n",
    "    client_id = config['client_id']\n",
    "    topic_prefix = config['topic_prefix']    \n",
    "    topic_list = ['{}-{}'.format(topic_prefix, topic) for topic in topics]\n",
    "    \n",
    "    return KafkaConsumer(\n",
    "        *topic_list,\n",
    "        client_id=client_id,\n",
    "        bootstrap_servers=bootstrap_servers,\n",
    "        auto_offset_reset='earliest',\n",
    "        enable_auto_commit=False,\n",
    "        value_deserializer=lambda x: json.loads(x)\n",
    "    )\n",
    "\n",
    "consumer = create_kafka_consumer(['locations', 'accelerations'])"
   ]
  },
  {
   "cell_type": "markdown",
   "metadata": {},
   "source": [
    "Gets a list of this consumer's current subscriptions"
   ]
  },
  {
   "cell_type": "code",
   "execution_count": 7,
   "metadata": {},
   "outputs": [
    {
     "data": {
      "text/plain": [
       "{'KingRamsey-accelerations', 'KingRamsey-locations'}"
      ]
     },
     "execution_count": 7,
     "metadata": {},
     "output_type": "execute_result"
    }
   ],
   "source": [
    "consumer.subscription()"
   ]
  },
  {
   "cell_type": "markdown",
   "metadata": {},
   "source": [
    "The following function prints messages from the current consumer subscriptions. It will continue until manually stopped. "
   ]
  },
  {
   "cell_type": "code",
   "execution_count": null,
   "metadata": {
    "scrolled": false
   },
   "outputs": [
    {
     "name": "stdout",
     "output_type": "stream",
     "text": [
      "Message metadata:\n",
      "  Topic: KingRamsey-locations\n",
      "  Partition: 0\n",
      "  Offset: 0\n",
      "Message Key: 50f1c04303f44d53aa9b7071f4e8fcde\n",
      "Message Value:\n",
      "  {\n",
      "    \"key1\": \"value1\",\n",
      "    \"key2\": \"value2\"\n",
      "  }\n",
      "\n",
      "Message metadata:\n",
      "  Topic: KingRamsey-locations\n",
      "  Partition: 0\n",
      "  Offset: 1\n",
      "Message Key: 3f430731d7d94f7e896998535b4dd5cf\n",
      "Message Value:\n",
      "  {\n",
      "    \"key1\": \"value1\",\n",
      "    \"key2\": \"value2\"\n",
      "  }\n",
      "\n"
     ]
    }
   ],
   "source": [
    "def print_messages(consumer=consumer):\n",
    "    try:\n",
    "        for message in consumer:\n",
    "                msg_metadata = 'Message metadata: {}:{}:{}'.format(\n",
    "                    message.topic, message.partition, message.offset\n",
    "                )\n",
    "\n",
    "                if message.key is not None:\n",
    "                    msg_key = message.key.decode('utf-8')\n",
    "                else:\n",
    "                    msg_key = ''\n",
    "                msg_value = json.dumps(message.value, indent=2)\n",
    "                msg_value = '\\n'.join(['  {}'.format(value) for value in msg_value.split('\\n')])\n",
    "\n",
    "                print('Message metadata:')\n",
    "                print('  Topic: {}'.format(message.topic))\n",
    "                print('  Partition: {}'.format(message.partition))\n",
    "                print('  Offset: {}'.format(message.offset))\n",
    "                print('Message Key: {}'.format(msg_key))\n",
    "                print('Message Value:')\n",
    "                print(msg_value)\n",
    "                print()\n",
    "    except KeyboardInterrupt:\n",
    "        print(\"STOPPING MESSAGE CONSUMER\")\n",
    "        \n",
    "print_messages()"
   ]
  },
  {
   "cell_type": "markdown",
   "metadata": {},
   "source": [
    "Close the consumer, waiting indefinitely for any needed cleanup."
   ]
  },
  {
   "cell_type": "code",
   "execution_count": null,
   "metadata": {},
   "outputs": [],
   "source": [
    "consumer.close()"
   ]
  }
 ],
 "metadata": {
  "kernelspec": {
   "display_name": "Python 3",
   "language": "python",
   "name": "python3"
  },
  "language_info": {
   "codemirror_mode": {
    "name": "ipython",
    "version": 3
   },
   "file_extension": ".py",
   "mimetype": "text/x-python",
   "name": "python",
   "nbconvert_exporter": "python",
   "pygments_lexer": "ipython3",
   "version": "3.8.3"
  }
 },
 "nbformat": 4,
 "nbformat_minor": 4
}
