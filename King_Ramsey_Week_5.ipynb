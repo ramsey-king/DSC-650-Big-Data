{
 "cells": [
  {
   "cell_type": "markdown",
   "source": [
    "# Assignment 5.1:  Implement the movie review classifier found in section 3.4 of *Deep Learning with Python.*"
   ],
   "metadata": {
    "collapsed": false,
    "pycharm": {
     "name": "#%% md\n"
    }
   }
  },
  {
   "cell_type": "code",
   "execution_count": 1,
   "outputs": [
    {
     "name": "stderr",
     "output_type": "stream",
     "text": [
      "Using TensorFlow backend.\n"
     ]
    },
    {
     "name": "stdout",
     "output_type": "stream",
     "text": [
      "Downloading data from https://s3.amazonaws.com/text-datasets/imdb.npz\n",
      "17465344/17464789 [==============================] - 4s 0us/step\n"
     ]
    }
   ],
   "source": [
    "from keras.datasets import imdb\n",
    "\n",
    "(train_data, train_labels), (test_data, test_labels) = imdb.load_data(\n",
    "    num_words=10000)"
   ],
   "metadata": {
    "collapsed": false,
    "pycharm": {
     "name": "#%%\n"
    }
   }
  },
  {
   "cell_type": "code",
   "execution_count": 2,
   "outputs": [],
   "source": [
    "import numpy as np\n",
    "\n",
    "def vectorize_sequences(sequences, dimension=10000):\n",
    "    results = np.zeros((len(sequences), dimension))\n",
    "    for i, sequence in enumerate(sequences):\n",
    "        results[i, sequence] = 1.\n",
    "    return results\n",
    "\n",
    "x_train = vectorize_sequences(train_data)\n",
    "x_test = vectorize_sequences(test_data)"
   ],
   "metadata": {
    "collapsed": false,
    "pycharm": {
     "name": "#%%\n"
    }
   }
  },
  {
   "cell_type": "code",
   "execution_count": 7,
   "outputs": [],
   "source": [
    "y_train = np.asarray(train_labels).astype('float32')\n",
    "y_test = np.asarray(test_labels).astype('float32')"
   ],
   "metadata": {
    "collapsed": false,
    "pycharm": {
     "name": "#%%\n"
    }
   }
  },
  {
   "cell_type": "code",
   "execution_count": 8,
   "outputs": [],
   "source": [
    "from keras import models\n",
    "from keras import layers\n",
    "\n",
    "model = models.Sequential()\n",
    "model.add(layers.Dense(16, activation='relu', input_shape=(10000,)))\n",
    "model.add(layers.Dense(16, activation='relu'))\n",
    "model.add(layers.Dense(1, activation='sigmoid'))"
   ],
   "metadata": {
    "collapsed": false,
    "pycharm": {
     "name": "#%%\n"
    }
   }
  },
  {
   "cell_type": "code",
   "execution_count": 9,
   "outputs": [],
   "source": [
    "model.compile(optimizer='rmsprop',\n",
    "              loss='binary_crossentropy',\n",
    "              metrics=['accuracy'])"
   ],
   "metadata": {
    "collapsed": false,
    "pycharm": {
     "name": "#%%\n"
    }
   }
  },
  {
   "cell_type": "code",
   "execution_count": 10,
   "outputs": [],
   "source": [
    "from tensorflow.keras import optimizers\n",
    "\n",
    "model.compile(optimizer=optimizers.RMSprop(learning_rate=0.001),\n",
    "              loss='binary_crossentropy',\n",
    "              metrics=['accuracy'])"
   ],
   "metadata": {
    "collapsed": false,
    "pycharm": {
     "name": "#%%\n"
    }
   }
  },
  {
   "cell_type": "code",
   "execution_count": 11,
   "outputs": [],
   "source": [
    "x_val = x_train[:10000]\n",
    "partial_x_train = x_train[10000:]\n",
    "y_val = y_train[:10000]\n",
    "partial_y_train = y_train[10000:]"
   ],
   "metadata": {
    "collapsed": false,
    "pycharm": {
     "name": "#%%\n"
    }
   }
  },
  {
   "cell_type": "code",
   "execution_count": 12,
   "outputs": [
    {
     "name": "stdout",
     "output_type": "stream",
     "text": [
      "Train on 15000 samples, validate on 10000 samples\n",
      "Epoch 1/20\n",
      "15000/15000 [==============================] - 10s 662us/step - loss: 0.5131 - acc: 0.7889 - val_loss: 0.3844 - val_acc: 0.8713\n",
      "Epoch 2/20\n",
      "15000/15000 [==============================] - 4s 234us/step - loss: 0.3068 - acc: 0.9050 - val_loss: 0.3325 - val_acc: 0.8678\n",
      "Epoch 3/20\n",
      "15000/15000 [==============================] - 3s 222us/step - loss: 0.2248 - acc: 0.9273 - val_loss: 0.2780 - val_acc: 0.8925\n",
      "Epoch 4/20\n",
      "15000/15000 [==============================] - 2s 158us/step - loss: 0.1772 - acc: 0.9442 - val_loss: 0.2788 - val_acc: 0.8857\n",
      "Epoch 5/20\n",
      "15000/15000 [==============================] - 2s 157us/step - loss: 0.1416 - acc: 0.9567 - val_loss: 0.3037 - val_acc: 0.8802\n",
      "Epoch 6/20\n",
      "15000/15000 [==============================] - 3s 170us/step - loss: 0.1181 - acc: 0.9626 - val_loss: 0.2941 - val_acc: 0.8866\n",
      "Epoch 7/20\n",
      "15000/15000 [==============================] - 2s 117us/step - loss: 0.0988 - acc: 0.9705 - val_loss: 0.3108 - val_acc: 0.8848\n",
      "Epoch 8/20\n",
      "15000/15000 [==============================] - 2s 113us/step - loss: 0.0777 - acc: 0.9796 - val_loss: 0.3657 - val_acc: 0.8738\n",
      "Epoch 9/20\n",
      "15000/15000 [==============================] - 2s 125us/step - loss: 0.0666 - acc: 0.9821 - val_loss: 0.3607 - val_acc: 0.8743\n",
      "Epoch 10/20\n",
      "15000/15000 [==============================] - 2s 115us/step - loss: 0.0564 - acc: 0.9853 - val_loss: 0.3833 - val_acc: 0.8784\n",
      "Epoch 11/20\n",
      "15000/15000 [==============================] - 2s 124us/step - loss: 0.0432 - acc: 0.9907 - val_loss: 0.4161 - val_acc: 0.8694\n",
      "Epoch 12/20\n",
      "15000/15000 [==============================] - 2s 120us/step - loss: 0.0374 - acc: 0.9913 - val_loss: 0.4384 - val_acc: 0.8703\n",
      "Epoch 13/20\n",
      "15000/15000 [==============================] - 2s 124us/step - loss: 0.0265 - acc: 0.9956 - val_loss: 0.4698 - val_acc: 0.8731\n",
      "Epoch 14/20\n",
      "15000/15000 [==============================] - 2s 126us/step - loss: 0.0227 - acc: 0.9963 - val_loss: 0.5004 - val_acc: 0.8687\n",
      "Epoch 15/20\n",
      "15000/15000 [==============================] - 2s 121us/step - loss: 0.0179 - acc: 0.9974 - val_loss: 0.5464 - val_acc: 0.8665\n",
      "Epoch 16/20\n",
      "15000/15000 [==============================] - 2s 123us/step - loss: 0.0128 - acc: 0.9985 - val_loss: 0.5899 - val_acc: 0.8678\n",
      "Epoch 17/20\n",
      "15000/15000 [==============================] - 2s 137us/step - loss: 0.0089 - acc: 0.9995 - val_loss: 0.6347 - val_acc: 0.8672\n",
      "Epoch 18/20\n",
      "15000/15000 [==============================] - 2s 121us/step - loss: 0.0102 - acc: 0.9983 - val_loss: 0.6417 - val_acc: 0.8667\n",
      "Epoch 19/20\n",
      "15000/15000 [==============================] - 2s 115us/step - loss: 0.0046 - acc: 0.9999 - val_loss: 0.6746 - val_acc: 0.8651\n",
      "Epoch 20/20\n",
      "15000/15000 [==============================] - 2s 134us/step - loss: 0.0060 - acc: 0.9993 - val_loss: 0.7157 - val_acc: 0.8624\n"
     ]
    }
   ],
   "source": [
    "model.compile(optimizer='rmsprop',\n",
    "              loss='binary_crossentropy',\n",
    "              metrics=['acc'])\n",
    "\n",
    "history = model.fit(partial_x_train,\n",
    "                    partial_y_train,\n",
    "                    epochs=20,\n",
    "                    batch_size=512,\n",
    "                    validation_data=(x_val, y_val))"
   ],
   "metadata": {
    "collapsed": false,
    "pycharm": {
     "name": "#%%\n"
    }
   }
  },
  {
   "cell_type": "code",
   "execution_count": 13,
   "outputs": [
    {
     "data": {
      "text/plain": "<Figure size 432x288 with 1 Axes>",
      "image/png": "[encoded data removed]"
     },
     "metadata": {
      "needs_background": "light"
     },
     "output_type": "display_data"
    }
   ],
   "source": [
    "import matplotlib.pyplot as plt\n",
    "\n",
    "history_dict = history.history\n",
    "loss_values = history_dict['loss']\n",
    "val_loss_values = history_dict['val_loss']\n",
    "\n",
    "epochs = range(1, len(loss_values) + 1)\n",
    "\n",
    "plt.plot(epochs, loss_values, 'bo', label='Training loss')\n",
    "plt.plot(epochs, val_loss_values, 'b', label='Validation loss')\n",
    "plt.title('Training and validation loss')\n",
    "plt.xlabel('Epochs')\n",
    "plt.ylabel('Loss')\n",
    "plt.legend()\n",
    "\n",
    "plt.show()"
   ],
   "metadata": {
    "collapsed": false,
    "pycharm": {
     "name": "#%%\n"
    }
   }
  },
  {
   "cell_type": "code",
   "execution_count": 14,
   "outputs": [
    {
     "data": {
      "text/plain": "<Figure size 432x288 with 1 Axes>",
      "image/png": "[encoded data removed]"
     },
     "metadata": {
      "needs_background": "light"
     },
     "output_type": "display_data"
    }
   ],
   "source": [
    "plt.clf()\n",
    "acc = history_dict['acc']\n",
    "val_acc = history_dict['val_acc']\n",
    "\n",
    "plt.plot(epochs, acc, 'bo', label='Training acc')\n",
    "plt.plot(epochs, val_acc, 'b', label='Validation acc')\n",
    "plt.title('Training and validation accuracy')\n",
    "plt.xlabel('Epochs')\n",
    "plt.ylabel('Accuracy')\n",
    "plt.legend()\n",
    "\n",
    "plt.show()"
   ],
   "metadata": {
    "collapsed": false,
    "pycharm": {
     "name": "#%%\n"
    }
   }
  },
  {
   "cell_type": "code",
   "execution_count": 15,
   "outputs": [
    {
     "name": "stdout",
     "output_type": "stream",
     "text": [
      "Epoch 1/4\n",
      "25000/25000 [==============================] - 4s 159us/step - loss: 0.4757 - accuracy: 0.8096\n",
      "Epoch 2/4\n",
      "25000/25000 [==============================] - 3s 135us/step - loss: 0.2748 - accuracy: 0.9086\n",
      "Epoch 3/4\n",
      "25000/25000 [==============================] - 2s 83us/step - loss: 0.2093 - accuracy: 0.9268\n",
      "Epoch 4/4\n",
      "25000/25000 [==============================] - 2s 92us/step - loss: 0.1728 - accuracy: 0.9398\n",
      "25000/25000 [==============================] - 8s 323us/step\n"
     ]
    }
   ],
   "source": [
    "model = models.Sequential()\n",
    "model.add(layers.Dense(16, activation='relu', input_shape=(10000,)))\n",
    "model.add(layers.Dense(16, activation='relu'))\n",
    "model.add(layers.Dense(1, activation='sigmoid'))\n",
    "\n",
    "model.compile(optimizer='rmsprop',\n",
    "              loss='binary_crossentropy',\n",
    "              metrics=['accuracy'])\n",
    "\n",
    "model.fit(x_train, y_train, epochs=4, batch_size=512)\n",
    "results = model.evaluate(x_test, y_test)"
   ],
   "metadata": {
    "collapsed": false,
    "pycharm": {
     "name": "#%%\n"
    }
   }
  },
  {
   "cell_type": "code",
   "execution_count": 16,
   "outputs": [
    {
     "data": {
      "text/plain": "[0.2987830638217926, 0.8813199996948242]"
     },
     "execution_count": 16,
     "metadata": {},
     "output_type": "execute_result"
    }
   ],
   "source": [
    "results"
   ],
   "metadata": {
    "collapsed": false,
    "pycharm": {
     "name": "#%%\n"
    }
   }
  },
  {
   "cell_type": "code",
   "execution_count": 17,
   "outputs": [
    {
     "data": {
      "text/plain": "array([[0.15451086],\n       [0.9975667 ],\n       [0.704646  ],\n       ...,\n       [0.07761247],\n       [0.04741837],\n       [0.47164786]], dtype=float32)"
     },
     "execution_count": 17,
     "metadata": {},
     "output_type": "execute_result"
    }
   ],
   "source": [
    "model.predict(x_test)"
   ],
   "metadata": {
    "collapsed": false,
    "pycharm": {
     "name": "#%%\n"
    }
   }
  },
  {
   "cell_type": "markdown",
   "source": [
    "# Assignment 5.2:  Implement the news classifier found in section 3.5 of *Deep Learning with Python.*"
   ],
   "metadata": {
    "collapsed": false,
    "pycharm": {
     "name": "#%% md\n"
    }
   }
  },
  {
   "cell_type": "code",
   "execution_count": 1,
   "outputs": [
    {
     "name": "stderr",
     "output_type": "stream",
     "text": [
      "Using TensorFlow backend.\n"
     ]
    },
    {
     "name": "stdout",
     "output_type": "stream",
     "text": [
      "Downloading data from https://s3.amazonaws.com/text-datasets/reuters.npz\n",
      "2113536/2110848 [==============================] - 1s 0us/step\n"
     ]
    }
   ],
   "source": [
    "# Loading the Reuters dataset.\n",
    "from keras.datasets import reuters\n",
    "\n",
    "(train_data, train_labels), (test_data, test_labels) = reuters.load_data(\n",
    "    num_words=10000)"
   ],
   "metadata": {
    "collapsed": false,
    "pycharm": {
     "name": "#%%\n"
    }
   }
  },
  {
   "cell_type": "code",
   "execution_count": 2,
   "outputs": [],
   "source": [
    "# Encoding the data.\n",
    "import numpy as np\n",
    "\n",
    "def vectorize_sequences(sequences, dimension=10000):\n",
    "    results_news = np.zeros((len(sequences), dimension))\n",
    "    for i, sequence in enumerate(sequences):\n",
    "        results_news[i, sequence] = 1.\n",
    "    return results_news\n",
    "\n",
    "x_train = vectorize_sequences(train_data)\n",
    "x_test = vectorize_sequences(test_data)"
   ],
   "metadata": {
    "collapsed": false,
    "pycharm": {
     "name": "#%%\n"
    }
   }
  },
  {
   "cell_type": "code",
   "execution_count": 3,
   "outputs": [],
   "source": [
    "# Using built Keras model to vectorize the labels\n",
    "from keras.utils.np_utils import to_categorical\n",
    "\n",
    "one_hot_train_labels = to_categorical(train_labels)\n",
    "one_hot_test_labels = to_categorical(test_labels)"
   ],
   "metadata": {
    "collapsed": false,
    "pycharm": {
     "name": "#%%\n"
    }
   }
  },
  {
   "cell_type": "code",
   "execution_count": 4,
   "outputs": [],
   "source": [
    "# Model definition\n",
    "from keras import models\n",
    "from keras import layers\n",
    "\n",
    "model = models.Sequential()\n",
    "model.add(layers.Dense(64, activation='relu', input_shape=(10000,)))\n",
    "model.add(layers.Dense(64, activation='relu'))\n",
    "model.add(layers.Dense(46, activation='softmax'))"
   ],
   "metadata": {
    "collapsed": false,
    "pycharm": {
     "name": "#%%\n"
    }
   }
  },
  {
   "cell_type": "code",
   "execution_count": 5,
   "outputs": [],
   "source": [
    "# Compiling the model\n",
    "model.compile(optimizer='rmsprop',\n",
    "              loss='categorical_crossentropy',\n",
    "              metrics=['accuracy'])"
   ],
   "metadata": {
    "collapsed": false,
    "pycharm": {
     "name": "#%%\n"
    }
   }
  },
  {
   "cell_type": "code",
   "execution_count": 6,
   "outputs": [],
   "source": [
    "# Validating the approach\n",
    "x_val = x_train[:1000]\n",
    "partial_x_train = x_train[1000:]\n",
    "\n",
    "y_val = one_hot_train_labels[:1000]\n",
    "partial_y_train = one_hot_train_labels[1000:]"
   ],
   "metadata": {
    "collapsed": false,
    "pycharm": {
     "name": "#%%\n"
    }
   }
  },
  {
   "cell_type": "code",
   "execution_count": 7,
   "outputs": [
    {
     "name": "stdout",
     "output_type": "stream",
     "text": [
      "Train on 7982 samples, validate on 1000 samples\n",
      "Epoch 1/20\n",
      "7982/7982 [==============================] - 1s 166us/step - loss: 2.6278 - accuracy: 0.5145 - val_loss: 1.7552 - val_accuracy: 0.6170\n",
      "Epoch 2/20\n",
      "7982/7982 [==============================] - 1s 159us/step - loss: 1.4462 - accuracy: 0.6891 - val_loss: 1.3032 - val_accuracy: 0.7120\n",
      "Epoch 3/20\n",
      "7982/7982 [==============================] - 1s 126us/step - loss: 1.0605 - accuracy: 0.7739 - val_loss: 1.1112 - val_accuracy: 0.7540\n",
      "Epoch 4/20\n",
      "7982/7982 [==============================] - 1s 118us/step - loss: 0.8311 - accuracy: 0.8269 - val_loss: 1.0191 - val_accuracy: 0.7800\n",
      "Epoch 5/20\n",
      "7982/7982 [==============================] - 1s 141us/step - loss: 0.6610 - accuracy: 0.8648 - val_loss: 0.9712 - val_accuracy: 0.7930\n",
      "Epoch 6/20\n",
      "7982/7982 [==============================] - 1s 116us/step - loss: 0.5285 - accuracy: 0.8918 - val_loss: 0.9078 - val_accuracy: 0.8170\n",
      "Epoch 7/20\n",
      "7982/7982 [==============================] - 1s 122us/step - loss: 0.4279 - accuracy: 0.9110 - val_loss: 0.8760 - val_accuracy: 0.8220\n",
      "Epoch 8/20\n",
      "7982/7982 [==============================] - 1s 113us/step - loss: 0.3437 - accuracy: 0.9293 - val_loss: 0.8795 - val_accuracy: 0.8250\n",
      "Epoch 9/20\n",
      "7982/7982 [==============================] - 1s 111us/step - loss: 0.2880 - accuracy: 0.9377 - val_loss: 0.9087 - val_accuracy: 0.8030\n",
      "Epoch 10/20\n",
      "7982/7982 [==============================] - 1s 124us/step - loss: 0.2361 - accuracy: 0.9446 - val_loss: 0.8697 - val_accuracy: 0.8220\n",
      "Epoch 11/20\n",
      "7982/7982 [==============================] - 1s 115us/step - loss: 0.2046 - accuracy: 0.9504 - val_loss: 0.8787 - val_accuracy: 0.8280\n",
      "Epoch 12/20\n",
      "7982/7982 [==============================] - 1s 112us/step - loss: 0.1852 - accuracy: 0.9511 - val_loss: 0.9264 - val_accuracy: 0.8240\n",
      "Epoch 13/20\n",
      "7982/7982 [==============================] - 1s 109us/step - loss: 0.1608 - accuracy: 0.9545 - val_loss: 0.9441 - val_accuracy: 0.8120\n",
      "Epoch 14/20\n",
      "7982/7982 [==============================] - 1s 110us/step - loss: 0.1487 - accuracy: 0.9553 - val_loss: 0.9623 - val_accuracy: 0.8230\n",
      "Epoch 15/20\n",
      "7982/7982 [==============================] - 1s 111us/step - loss: 0.1389 - accuracy: 0.9577 - val_loss: 0.9599 - val_accuracy: 0.8160\n",
      "Epoch 16/20\n",
      "7982/7982 [==============================] - 1s 123us/step - loss: 0.1285 - accuracy: 0.9574 - val_loss: 1.0136 - val_accuracy: 0.8100\n",
      "Epoch 17/20\n",
      "7982/7982 [==============================] - 1s 108us/step - loss: 0.1236 - accuracy: 0.9564 - val_loss: 1.0427 - val_accuracy: 0.8000\n",
      "Epoch 18/20\n",
      "7982/7982 [==============================] - 1s 113us/step - loss: 0.1205 - accuracy: 0.9589 - val_loss: 1.0535 - val_accuracy: 0.7970\n",
      "Epoch 19/20\n",
      "7982/7982 [==============================] - 1s 112us/step - loss: 0.1136 - accuracy: 0.9588 - val_loss: 1.0365 - val_accuracy: 0.8120\n",
      "Epoch 20/20\n",
      "7982/7982 [==============================] - 1s 110us/step - loss: 0.1101 - accuracy: 0.9564 - val_loss: 1.0534 - val_accuracy: 0.8070\n"
     ]
    }
   ],
   "source": [
    "# train the network for 20 epochs.\n",
    "history = model.fit(partial_x_train,\n",
    "                    partial_y_train,\n",
    "                    epochs=20,\n",
    "                    batch_size=512,\n",
    "                    validation_data=(x_val, y_val))\n"
   ],
   "metadata": {
    "collapsed": false,
    "pycharm": {
     "name": "#%%\n"
    }
   }
  },
  {
   "cell_type": "code",
   "execution_count": 8,
   "outputs": [
    {
     "data": {
      "text/plain": "<Figure size 432x288 with 1 Axes>",
      "image/png": "[encoded data removed]"
     },
     "metadata": {
      "needs_background": "light"
     },
     "output_type": "display_data"
    }
   ],
   "source": [
    "# Plotting the training and validation loss\n",
    "import matplotlib.pyplot as plt\n",
    "\n",
    "loss = history.history['loss']\n",
    "val_loss = history.history['val_loss']\n",
    "\n",
    "epochs = range(1, len(loss) + 1)\n",
    "\n",
    "plt.plot(epochs, loss, 'bo', label='Training loss')\n",
    "plt.plot(epochs, val_loss, 'b', label='Validation loss')\n",
    "plt.title('Training and validation loss')\n",
    "plt.xlabel('Epochs')\n",
    "plt.ylabel('Loss')\n",
    "plt.legend()\n",
    "\n",
    "plt.show()\n"
   ],
   "metadata": {
    "collapsed": false,
    "pycharm": {
     "name": "#%%\n"
    }
   }
  },
  {
   "cell_type": "code",
   "execution_count": 12,
   "outputs": [
    {
     "data": {
      "text/plain": "<Figure size 432x288 with 1 Axes>",
      "image/png": "[encoded data removed]"
     },
     "metadata": {
      "needs_background": "light"
     },
     "output_type": "display_data"
    }
   ],
   "source": [
    "# Plotting the training and validation accuracy\n",
    "# print(history.history.keys())\n",
    "plt.clf()\n",
    "\n",
    "acc = history.history['accuracy']\n",
    "val_acc = history.history['val_accuracy']\n",
    "\n",
    "plt.plot(epochs, acc, 'bo', label='Training acc')\n",
    "plt.plot(epochs, val_acc, 'b', label='Validation acc')\n",
    "plt.title('Training and validation accuracy')\n",
    "plt.xlabel('Epochs')\n",
    "plt.ylabel('Accuracy')\n",
    "plt.legend()\n",
    "\n",
    "plt.show()"
   ],
   "metadata": {
    "collapsed": false,
    "pycharm": {
     "name": "#%%\n"
    }
   }
  },
  {
   "cell_type": "code",
   "execution_count": 15,
   "outputs": [
    {
     "name": "stdout",
     "output_type": "stream",
     "text": [
      "Train on 7982 samples, validate on 1000 samples\n",
      "Epoch 1/9\n",
      "7982/7982 [==============================] - 1s 158us/step - loss: 2.6769 - accuracy: 0.5204 - val_loss: 1.8037 - val_accuracy: 0.6350\n",
      "Epoch 2/9\n",
      "7982/7982 [==============================] - 1s 127us/step - loss: 1.4631 - accuracy: 0.6983 - val_loss: 1.3402 - val_accuracy: 0.7130\n",
      "Epoch 3/9\n",
      "7982/7982 [==============================] - 1s 115us/step - loss: 1.0821 - accuracy: 0.7705 - val_loss: 1.1614 - val_accuracy: 0.7460\n",
      "Epoch 4/9\n",
      "7982/7982 [==============================] - 1s 120us/step - loss: 0.8556 - accuracy: 0.8180 - val_loss: 1.0606 - val_accuracy: 0.7750\n",
      "Epoch 5/9\n",
      "7982/7982 [==============================] - 1s 127us/step - loss: 0.6892 - accuracy: 0.8527 - val_loss: 0.9968 - val_accuracy: 0.7880\n",
      "Epoch 6/9\n",
      "7982/7982 [==============================] - 1s 146us/step - loss: 0.5546 - accuracy: 0.8816 - val_loss: 0.9586 - val_accuracy: 0.8030\n",
      "Epoch 7/9\n",
      "7982/7982 [==============================] - 1s 132us/step - loss: 0.4485 - accuracy: 0.9070 - val_loss: 0.9301 - val_accuracy: 0.8010\n",
      "Epoch 8/9\n",
      "7982/7982 [==============================] - 1s 144us/step - loss: 0.3612 - accuracy: 0.9240 - val_loss: 0.9146 - val_accuracy: 0.8160\n",
      "Epoch 9/9\n",
      "7982/7982 [==============================] - 1s 128us/step - loss: 0.3035 - accuracy: 0.9335 - val_loss: 0.8907 - val_accuracy: 0.8170\n",
      "2246/2246 [==============================] - 0s 121us/step\n"
     ]
    }
   ],
   "source": [
    "# Retraining a model from scratch\n",
    "model = models.Sequential()\n",
    "model.add(layers.Dense(64, activation='relu', input_shape=(10000,)))\n",
    "model.add(layers.Dense(64, activation='relu'))\n",
    "model.add(layers.Dense(46, activation='softmax'))\n",
    "\n",
    "model.compile(optimizer='rmsprop',\n",
    "              loss='categorical_crossentropy',\n",
    "              metrics=['accuracy'])\n",
    "model.fit(partial_x_train,\n",
    "          partial_y_train,\n",
    "          epochs=9,\n",
    "          batch_size=512,\n",
    "          validation_data=(x_val, y_val))\n",
    "results = model.evaluate(x_test, one_hot_test_labels)\n"
   ],
   "metadata": {
    "collapsed": false,
    "pycharm": {
     "name": "#%%\n"
    }
   }
  },
  {
   "cell_type": "code",
   "execution_count": 16,
   "outputs": [
    {
     "data": {
      "text/plain": "[0.9903275057978643, 0.7871772050857544]"
     },
     "execution_count": 16,
     "metadata": {},
     "output_type": "execute_result"
    }
   ],
   "source": [
    "# Final Results\n",
    "results"
   ],
   "metadata": {
    "collapsed": false,
    "pycharm": {
     "name": "#%%\n"
    }
   }
  },
  {
   "cell_type": "code",
   "execution_count": 17,
   "outputs": [
    {
     "name": "stdout",
     "output_type": "stream",
     "text": [
      "(46,)\n",
      "0.9999998\n",
      "3\n"
     ]
    }
   ],
   "source": [
    "# Generating predictions for the new data\n",
    "predictions = model.predict(x_test)\n",
    "print(predictions[0].shape)\n",
    "print(np.sum(predictions[0]))\n",
    "print(np.argmax(predictions[0]))"
   ],
   "metadata": {
    "collapsed": false,
    "pycharm": {
     "name": "#%%\n"
    }
   }
  },
  {
   "cell_type": "code",
   "execution_count": 18,
   "outputs": [],
   "source": [
    "# Encoding the labels by casting them as an integer tensor\n",
    "\n",
    "y_train = np.array(train_labels)\n",
    "y_test = np.array(test_labels)"
   ],
   "metadata": {
    "collapsed": false,
    "pycharm": {
     "name": "#%%\n"
    }
   }
  },
  {
   "cell_type": "code",
   "execution_count": 19,
   "outputs": [],
   "source": [
    "# Changing the choice of loss function due to the casting in the above line of code\n",
    "model.compile(optimizer='rmsprop',\n",
    "              loss='sparse_categorical_crossentropy',\n",
    "              metrics=['acc'])"
   ],
   "metadata": {
    "collapsed": false,
    "pycharm": {
     "name": "#%%\n"
    }
   }
  },
  {
   "cell_type": "code",
   "execution_count": 20,
   "outputs": [
    {
     "name": "stdout",
     "output_type": "stream",
     "text": [
      "Train on 7982 samples, validate on 1000 samples\n",
      "Epoch 1/20\n",
      "7982/7982 [==============================] - 2s 227us/step - loss: 3.5258 - accuracy: 0.0799 - val_loss: 3.2098 - val_accuracy: 0.1130\n",
      "Epoch 2/20\n",
      "7982/7982 [==============================] - 2s 220us/step - loss: 2.8176 - accuracy: 0.2240 - val_loss: 2.4966 - val_accuracy: 0.5330\n",
      "Epoch 3/20\n",
      "7982/7982 [==============================] - 2s 201us/step - loss: 2.1279 - accuracy: 0.5331 - val_loss: 2.0766 - val_accuracy: 0.4950\n",
      "Epoch 4/20\n",
      "7982/7982 [==============================] - 1s 169us/step - loss: 1.8160 - accuracy: 0.5128 - val_loss: 1.9067 - val_accuracy: 0.4870\n",
      "Epoch 5/20\n",
      "7982/7982 [==============================] - 1s 168us/step - loss: 1.5590 - accuracy: 0.5442 - val_loss: 1.6744 - val_accuracy: 0.5490\n",
      "Epoch 6/20\n",
      "7982/7982 [==============================] - 1s 157us/step - loss: 1.2743 - accuracy: 0.6675 - val_loss: 1.4794 - val_accuracy: 0.6480\n",
      "Epoch 7/20\n",
      "7982/7982 [==============================] - 1s 157us/step - loss: 1.1309 - accuracy: 0.6968 - val_loss: 1.4556 - val_accuracy: 0.6630\n",
      "Epoch 8/20\n",
      "7982/7982 [==============================] - 1s 154us/step - loss: 1.0412 - accuracy: 0.7197 - val_loss: 1.4666 - val_accuracy: 0.6650\n",
      "Epoch 9/20\n",
      "7982/7982 [==============================] - 1s 157us/step - loss: 0.9687 - accuracy: 0.7422 - val_loss: 1.5109 - val_accuracy: 0.6730\n",
      "Epoch 10/20\n",
      "7982/7982 [==============================] - 1s 159us/step - loss: 0.9105 - accuracy: 0.7567 - val_loss: 1.5148 - val_accuracy: 0.6700\n",
      "Epoch 11/20\n",
      "7982/7982 [==============================] - 1s 156us/step - loss: 0.8631 - accuracy: 0.7711 - val_loss: 1.5521 - val_accuracy: 0.6730\n",
      "Epoch 12/20\n",
      "7982/7982 [==============================] - 1s 163us/step - loss: 0.8236 - accuracy: 0.7794 - val_loss: 1.6116 - val_accuracy: 0.6700\n",
      "Epoch 13/20\n",
      "7982/7982 [==============================] - 1s 164us/step - loss: 0.7850 - accuracy: 0.7875 - val_loss: 1.6410 - val_accuracy: 0.6730\n",
      "Epoch 14/20\n",
      "7982/7982 [==============================] - 1s 155us/step - loss: 0.7549 - accuracy: 0.7925 - val_loss: 1.7196 - val_accuracy: 0.6740\n",
      "Epoch 15/20\n",
      "7982/7982 [==============================] - 1s 164us/step - loss: 0.7288 - accuracy: 0.7982 - val_loss: 1.7662 - val_accuracy: 0.6680\n",
      "Epoch 16/20\n",
      "7982/7982 [==============================] - 1s 158us/step - loss: 0.7037 - accuracy: 0.8031 - val_loss: 1.8379 - val_accuracy: 0.6740\n",
      "Epoch 17/20\n",
      "7982/7982 [==============================] - 1s 155us/step - loss: 0.6823 - accuracy: 0.8123 - val_loss: 1.8887 - val_accuracy: 0.6710\n",
      "Epoch 18/20\n",
      "7982/7982 [==============================] - 1s 156us/step - loss: 0.6613 - accuracy: 0.8183 - val_loss: 1.9760 - val_accuracy: 0.6700\n",
      "Epoch 19/20\n",
      "7982/7982 [==============================] - 1s 157us/step - loss: 0.6468 - accuracy: 0.8270 - val_loss: 2.0240 - val_accuracy: 0.6780\n",
      "Epoch 20/20\n",
      "7982/7982 [==============================] - 1s 160us/step - loss: 0.6294 - accuracy: 0.8271 - val_loss: 2.0723 - val_accuracy: 0.6710\n"
     ]
    },
    {
     "data": {
      "text/plain": "<keras.callbacks.callbacks.History at 0x1e02c0303c8>"
     },
     "execution_count": 20,
     "metadata": {},
     "output_type": "execute_result"
    }
   ],
   "source": [
    "# Showing a model with an information bottleneck\n",
    "model = models.Sequential()\n",
    "model.add(layers.Dense(64, activation='relu', input_shape=(10000,)))\n",
    "model.add(layers.Dense(4, activation='relu'))\n",
    "model.add(layers.Dense(46, activation='softmax'))\n",
    "\n",
    "model.compile(optimizer='rmsprop',\n",
    "              loss='categorical_crossentropy',\n",
    "              metrics=['accuracy'])\n",
    "model.fit(partial_x_train,\n",
    "          partial_y_train,\n",
    "          epochs=20,\n",
    "          batch_size=128,\n",
    "          validation_data=(x_val, y_val))"
   ],
   "metadata": {
    "collapsed": false,
    "pycharm": {
     "name": "#%%\n"
    }
   }
  },
  {
   "cell_type": "markdown",
   "source": [
    "# Assignment 5.3:  Implement the housing price regression model found in section 3.6 of *Deep Learning with Python.*"
   ],
   "metadata": {
    "collapsed": false,
    "pycharm": {
     "name": "#%% md\n"
    }
   }
  },
  {
   "cell_type": "code",
   "execution_count": 21,
   "outputs": [
    {
     "name": "stdout",
     "output_type": "stream",
     "text": [
      "Downloading data from https://s3.amazonaws.com/keras-datasets/boston_housing.npz\n",
      "57344/57026 [==============================] - 0s 1us/step\n"
     ]
    }
   ],
   "source": [
    "from keras.datasets import boston_housing\n",
    "\n",
    "(train_data, train_targets), (test_data, test_targets) = boston_housing.load_data()"
   ],
   "metadata": {
    "collapsed": false,
    "pycharm": {
     "name": "#%%\n"
    }
   }
  },
  {
   "cell_type": "code",
   "execution_count": 22,
   "outputs": [
    {
     "name": "stdout",
     "output_type": "stream",
     "text": [
      "(404, 13)\n"
     ]
    },
    {
     "data": {
      "text/plain": "(102, 13)"
     },
     "execution_count": 22,
     "metadata": {},
     "output_type": "execute_result"
    }
   ],
   "source": [
    "# Taking a look at the data\n",
    "print(train_data.shape)\n",
    "test_data.shape"
   ],
   "metadata": {
    "collapsed": false,
    "pycharm": {
     "name": "#%%\n"
    }
   }
  },
  {
   "cell_type": "code",
   "execution_count": 23,
   "outputs": [],
   "source": [
    "# Normalizing the data\n",
    "mean = train_data.mean(axis=0)\n",
    "train_data -= mean\n",
    "std = train_data.std(axis=0)\n",
    "train_data /= std\n",
    "\n",
    "test_data -= mean\n",
    "test_data /= std"
   ],
   "metadata": {
    "collapsed": false,
    "pycharm": {
     "name": "#%%\n"
    }
   }
  },
  {
   "cell_type": "code",
   "execution_count": 25,
   "outputs": [],
   "source": [
    "# Model definition\n",
    "from keras import models\n",
    "from keras import layers\n",
    "\n",
    "def build_model():\n",
    "    model_housing = models.Sequential()\n",
    "    model_housing.add(layers.Dense(64, activation='relu',\n",
    "                           input_shape=(train_data.shape[1],)))\n",
    "    model_housing.add(layers.Dense(64, activation='relu'))\n",
    "    model_housing.add(layers.Dense(1))\n",
    "    model_housing.compile(optimizer='rmsprop', loss='mse', metrics=['mae'])\n",
    "    return model_housing"
   ],
   "metadata": {
    "collapsed": false,
    "pycharm": {
     "name": "#%%\n"
    }
   }
  },
  {
   "cell_type": "code",
   "execution_count": 26,
   "outputs": [
    {
     "name": "stdout",
     "output_type": "stream",
     "text": [
      "processing fold # 0\n",
      "processing fold # 1\n",
      "processing fold # 2\n",
      "processing fold # 3\n"
     ]
    }
   ],
   "source": [
    "# K-fold validation\n",
    "\n",
    "import numpy as np\n",
    "\n",
    "k = 4\n",
    "num_val_samples = len(train_data) // k\n",
    "num_epochs = 100\n",
    "all_scores = []\n",
    "for i in range(k):\n",
    "    print('processing fold #', i)\n",
    "    val_data = train_data[i * num_val_samples: (i + 1) * num_val_samples]\n",
    "    val_targets = train_targets[i * num_val_samples: (i + 1) * num_val_samples]\n",
    "\n",
    "    partial_train_data = np.concatenate(\n",
    "        [train_data[:i * num_val_samples],\n",
    "         train_data[(i + 1) * num_val_samples:]],\n",
    "        axis=0)\n",
    "    partial_train_targets = np.concatenate(\n",
    "        [train_targets[:i * num_val_samples],\n",
    "         train_targets[(i + 1) * num_val_samples:]],\n",
    "        axis=0)\n",
    "\n",
    "    model = build_model()\n",
    "    model.fit(partial_train_data, partial_train_targets,\n",
    "              epochs=num_epochs, batch_size=1, verbose=0)\n",
    "    val_mse, val_mae = model.evaluate(val_data, val_targets, verbose=0)\n",
    "    all_scores.append(val_mae)"
   ],
   "metadata": {
    "collapsed": false,
    "pycharm": {
     "name": "#%%\n"
    }
   }
  },
  {
   "cell_type": "code",
   "execution_count": 27,
   "outputs": [
    {
     "name": "stdout",
     "output_type": "stream",
     "text": [
      "[2.3391318321228027, 2.226796865463257, 2.7730000019073486, 2.556352376937866]\n"
     ]
    },
    {
     "data": {
      "text/plain": "2.4738202691078186"
     },
     "execution_count": 27,
     "metadata": {},
     "output_type": "execute_result"
    }
   ],
   "source": [
    "# results at 100 epochs\n",
    "print(all_scores)\n",
    "np.mean(all_scores)"
   ],
   "metadata": {
    "collapsed": false,
    "pycharm": {
     "name": "#%%\n"
    }
   }
  },
  {
   "cell_type": "code",
   "execution_count": 31,
   "outputs": [
    {
     "name": "stdout",
     "output_type": "stream",
     "text": [
      "processing fold # 0\n",
      "processing fold # 1\n",
      "processing fold # 2\n",
      "processing fold # 3\n"
     ]
    }
   ],
   "source": [
    "# Training with 500 epochs and saving the validation logs at each fold\n",
    "# print(history.history.keys())\n",
    "num_epochs = 500\n",
    "all_mae_histories = []\n",
    "for i in range(k):\n",
    "    print('processing fold #', i)\n",
    "    val_data = train_data[i * num_val_samples: (i + 1) * num_val_samples]\n",
    "    val_targets = train_targets[i * num_val_samples: (i + 1) * num_val_samples]\n",
    "    partial_train_data = np.concatenate(\n",
    "        [train_data[:i * num_val_samples],\n",
    "         train_data[(i + 1) * num_val_samples:]],\n",
    "        axis=0)\n",
    "    partial_train_targets = np.concatenate(\n",
    "        [train_targets[:i * num_val_samples],\n",
    "         train_targets[(i + 1) * num_val_samples:]],\n",
    "        axis=0)\n",
    "\n",
    "    model = build_model()\n",
    "    history = model.fit(partial_train_data, partial_train_targets,\n",
    "                        validation_data=(val_data, val_targets),\n",
    "                        epochs=num_epochs, batch_size=1, verbose=0)\n",
    "    mae_history = history.history['val_mae']\n",
    "    all_mae_histories.append(mae_history)\n",
    "\n"
   ],
   "metadata": {
    "collapsed": false,
    "pycharm": {
     "name": "#%%\n"
    }
   }
  },
  {
   "cell_type": "code",
   "execution_count": 33,
   "outputs": [
    {
     "data": {
      "text/plain": "<Figure size 432x288 with 1 Axes>",
      "image/png": "[encoded data removed]"
     },
     "metadata": {
      "needs_background": "light"
     },
     "output_type": "display_data"
    }
   ],
   "source": [
    "# average of per epoch MAE scores for all folds and a plot\n",
    "\n",
    "average_mae_history = [\n",
    "    np.mean([x[i] for x in all_mae_histories]) for i in range(num_epochs)]\n",
    "\n",
    "plt.plot(range(1, len(average_mae_history) + 1), average_mae_history)\n",
    "plt.xlabel('Epochs')\n",
    "plt.ylabel('Validation MAE')\n",
    "plt.show()"
   ],
   "metadata": {
    "collapsed": false,
    "pycharm": {
     "name": "#%%\n"
    }
   }
  },
  {
   "cell_type": "code",
   "execution_count": 34,
   "outputs": [
    {
     "data": {
      "text/plain": "<Figure size 432x288 with 1 Axes>",
      "image/png": "[encoded data removed]"
     },
     "metadata": {
      "needs_background": "light"
     },
     "output_type": "display_data"
    }
   ],
   "source": [
    "# Plotting validation scores, excluding the first 10 data points\n",
    "def smooth_curve(points, factor=0.9):\n",
    "  smoothed_points = []\n",
    "  for point in points:\n",
    "    if smoothed_points:\n",
    "      previous = smoothed_points[-1]\n",
    "      smoothed_points.append(previous * factor + point * (1 - factor))\n",
    "    else:\n",
    "      smoothed_points.append(point)\n",
    "  return smoothed_points\n",
    "\n",
    "smooth_mae_history = smooth_curve(average_mae_history[10:])\n",
    "\n",
    "plt.plot(range(1, len(smooth_mae_history) + 1), smooth_mae_history)\n",
    "plt.xlabel('Epochs')\n",
    "plt.ylabel('Validation MAE')\n",
    "plt.show()\n"
   ],
   "metadata": {
    "collapsed": false,
    "pycharm": {
     "name": "#%%\n"
    }
   }
  },
  {
   "cell_type": "code",
   "execution_count": 35,
   "outputs": [
    {
     "name": "stdout",
     "output_type": "stream",
     "text": [
      "102/102 [==============================] - 0s 139us/step\n"
     ]
    },
    {
     "data": {
      "text/plain": "2.789116382598877"
     },
     "execution_count": 35,
     "metadata": {},
     "output_type": "execute_result"
    }
   ],
   "source": [
    "# Training the final model\n",
    "model = build_model()\n",
    "model.fit(train_data, train_targets,\n",
    "          epochs=80, batch_size=16, verbose=0)\n",
    "test_mse_score, test_mae_score = model.evaluate(test_data, test_targets)\n",
    "test_mae_score\n"
   ],
   "metadata": {
    "collapsed": false,
    "pycharm": {
     "name": "#%%\n"
    }
   }
  },
  {
   "cell_type": "markdown",
   "source": [],
   "metadata": {
    "collapsed": false,
    "pycharm": {
     "name": "#%% md\n"
    }
   }
  }
 ],
 "metadata": {
  "kernelspec": {
   "display_name": "Python 3",
   "language": "python",
   "name": "python3"
  },
  "language_info": {
   "codemirror_mode": {
    "name": "ipython",
    "version": 2
   },
   "file_extension": ".py",
   "mimetype": "text/x-python",
   "name": "python",
   "nbconvert_exporter": "python",
   "pygments_lexer": "ipython2",
   "version": "2.7.6"
  }
 },
 "nbformat": 4,
 "nbformat_minor": 0
}